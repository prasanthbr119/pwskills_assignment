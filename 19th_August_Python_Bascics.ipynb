{
 "cells": [
  {
   "cell_type": "code",
   "execution_count": 6,
   "id": "3088e287-bc60-43a2-a395-9e1aeb3c1fc6",
   "metadata": {},
   "outputs": [
    {
     "name": "stdout",
     "output_type": "stream",
     "text": [
      "x =  10 ,y = 20\n",
      "x =  20\n",
      "y =  10\n"
     ]
    }
   ],
   "source": [
    "#TOPIC: Python Basics Variable\n",
    "# swapping the two variables without temp variables\n",
    "x = 10\n",
    "y = 20\n",
    "print(\"x = \" ,x,\",y =\" ,y)\n",
    "\n",
    "x,y = y,x\n",
    "\n",
    "print(\"x = \",x)\n",
    "print(\"y = \",y)"
   ]
  },
  {
   "cell_type": "code",
   "execution_count": null,
   "id": "28223b79-1a34-4b0c-8612-07c6ddd0e374",
   "metadata": {},
   "outputs": [],
   "source": [
    "# calculates the area of rectangle with users input\n",
    "length = float(input(\"Enter the length of rectangle \"))\n",
    "width = float(input(\"Enter the width of rectangle \"))\n",
    "print(length,width)\n",
    "area = length * width\n",
    "print(area)"
   ]
  },
  {
   "cell_type": "code",
   "execution_count": 8,
   "id": "73845e49-5d7e-4967-94a9-31e939e48ea3",
   "metadata": {},
   "outputs": [
    {
     "name": "stdin",
     "output_type": "stream",
     "text": [
      "Enter the Temperature in Celius 10\n"
     ]
    },
    {
     "name": "stdout",
     "output_type": "stream",
     "text": [
      "Temperature of celsius in fahrenheit is  50.0\n"
     ]
    }
   ],
   "source": [
    "#converting tempature from Celsius to Fahrenheit.\n",
    "celsius =int(input(\"Enter the Temperature in Celius\"))\n",
    "fahrenheit = (1.8 * celsius) + 32\n",
    "print(\"Temperature of celsius in fahrenheit is \",fahrenheit)"
   ]
  },
  {
   "cell_type": "code",
   "execution_count": 9,
   "id": "c4c75b5c-597e-46d4-8a6b-b589528f9bbe",
   "metadata": {},
   "outputs": [
    {
     "name": "stdin",
     "output_type": "stream",
     "text": [
      "Enter the stting value  My name is Prasanth\n"
     ]
    },
    {
     "name": "stdout",
     "output_type": "stream",
     "text": [
      "The length of the input string is  19\n"
     ]
    }
   ],
   "source": [
    "# String based questions\n",
    "\n",
    "#finding length of the string from input value\n",
    "s1 = str(input(\"Enter the stting value \"))\n",
    "print(\"The length of the input string is \",len(s1))\n",
    "\n"
   ]
  },
  {
   "cell_type": "code",
   "execution_count": 13,
   "id": "c9048eab-407d-4ad0-9ed7-f7a0293ddebd",
   "metadata": {},
   "outputs": [
    {
     "name": "stdin",
     "output_type": "stream",
     "text": [
      "Enter the sentences to count the vowels PW Skills\n"
     ]
    },
    {
     "name": "stdout",
     "output_type": "stream",
     "text": [
      "No of vowels in this sentences is  1\n"
     ]
    }
   ],
   "source": [
    "# Counting number of vowles in the given input sentences\n",
    "\n",
    "sents = str(input(\"Enter the sentences to count the vowels\"))\n",
    "vowels = 'aeiouAEIOU'\n",
    "count = sum(sents.count(vowel) for vowel in vowels)\n",
    "print(\"No of vowels in this sentences is \",count)\n",
    "\n"
   ]
  },
  {
   "cell_type": "code",
   "execution_count": 5,
   "id": "d8b4ddb7-422a-4b79-8614-5502da6ae131",
   "metadata": {},
   "outputs": [
    {
     "name": "stdin",
     "output_type": "stream",
     "text": [
      "Enter the string to reverse it  test\n"
     ]
    },
    {
     "name": "stdout",
     "output_type": "stream",
     "text": [
      "output is tset\n"
     ]
    }
   ],
   "source": [
    "# reverse the string using string slicing\n",
    "\n",
    "sli = (str(input(\"Enter the string to reverse it \")))\n",
    "\n",
    "print(\"output is\",sli[::-1])\n"
   ]
  },
  {
   "cell_type": "code",
   "execution_count": 1,
   "id": "8ae61395-9ab6-4543-a9de-42cc947aeb3b",
   "metadata": {},
   "outputs": [
    {
     "name": "stdin",
     "output_type": "stream",
     "text": [
      "Enter the text to check palimdrome  madam\n"
     ]
    },
    {
     "name": "stdout",
     "output_type": "stream",
     "text": [
      "The given input string is palindrome  madam\n"
     ]
    }
   ],
   "source": [
    "# checking the given input is palindrome or not\n",
    "pali = str(input(\"Enter the text to check palimdrome \"))\n",
    "rev=\"\"\n",
    "for i in pali:\n",
    "    rev = i + rev\n",
    "    \n",
    "if (rev == pali):\n",
    "    print (\"The given input string is palindrome \",pali)\n",
    "else :\n",
    "    print (\"The given input string is not a palindrome \",pali)"
   ]
  },
  {
   "cell_type": "code",
   "execution_count": 5,
   "id": "6993ac1f-4eae-448b-9a54-80c932e6ae53",
   "metadata": {},
   "outputs": [
    {
     "name": "stdin",
     "output_type": "stream",
     "text": [
      "Enter the string to remove space  S E D\n"
     ]
    },
    {
     "name": "stdout",
     "output_type": "stream",
     "text": [
      "Output is  SED\n"
     ]
    }
   ],
   "source": [
    "# Remove the space in string values\n",
    "s1 = str(input(\"Enter the string to remove space \"))\n",
    "print(\"Output is \",s1.replace(\" \",\"\"))"
   ]
  }
 ],
 "metadata": {
  "kernelspec": {
   "display_name": "Python 3 (ipykernel)",
   "language": "python",
   "name": "python3"
  },
  "language_info": {
   "codemirror_mode": {
    "name": "ipython",
    "version": 3
   },
   "file_extension": ".py",
   "mimetype": "text/x-python",
   "name": "python",
   "nbconvert_exporter": "python",
   "pygments_lexer": "ipython3",
   "version": "3.10.8"
  }
 },
 "nbformat": 4,
 "nbformat_minor": 5
}
